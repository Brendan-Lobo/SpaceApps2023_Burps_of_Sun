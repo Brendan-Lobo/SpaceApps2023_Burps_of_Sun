{
 "cells": [
  {
   "cell_type": "code",
   "execution_count": 11,
   "metadata": {},
   "outputs": [],
   "source": [
    "import pandas as pd\n",
    "import io\n",
    "import requests\n",
    "import matplotlib.pyplot as plt\n",
    "import plotly.graph_objects as go\n",
    "from datetime import datetime, timedelta"
   ]
  },
  {
   "cell_type": "markdown",
   "metadata": {},
   "source": [
    "# Pipeline Goal\n",
    "1. Download Dataset from the website for our specified date/source period\n",
    "2. Put into panda dataset for easy manipulation\n",
    "3. Plot Data (ensure it works)\n",
    "4. Data Manipulation\n",
    "    a. Set Threshold value\n",
    "    b. Get rid of "
   ]
  },
  {
   "cell_type": "markdown",
   "metadata": {},
   "source": [
    "## Putting Dataset into Pandas"
   ]
  },
  {
   "cell_type": "code",
   "execution_count": 2,
   "metadata": {},
   "outputs": [
    {
     "data": {
      "text/html": [
       "<div>\n",
       "<style scoped>\n",
       "    .dataframe tbody tr th:only-of-type {\n",
       "        vertical-align: middle;\n",
       "    }\n",
       "\n",
       "    .dataframe tbody tr th {\n",
       "        vertical-align: top;\n",
       "    }\n",
       "\n",
       "    .dataframe thead th {\n",
       "        text-align: right;\n",
       "    }\n",
       "</style>\n",
       "<table border=\"1\" class=\"dataframe\">\n",
       "  <thead>\n",
       "    <tr style=\"text-align: right;\">\n",
       "      <th></th>\n",
       "      <th>Year</th>\n",
       "      <th>Day</th>\n",
       "      <th>Hour</th>\n",
       "      <th>DSCOV Bz_gse, nT</th>\n",
       "      <th>WIND Bz_gse, nT</th>\n",
       "      <th>ACE Bz_gse, nT</th>\n",
       "    </tr>\n",
       "  </thead>\n",
       "  <tbody>\n",
       "    <tr>\n",
       "      <th>0</th>\n",
       "      <td>2016</td>\n",
       "      <td>156</td>\n",
       "      <td>0</td>\n",
       "      <td>999.9</td>\n",
       "      <td>-0.1</td>\n",
       "      <td>0.4</td>\n",
       "    </tr>\n",
       "    <tr>\n",
       "      <th>1</th>\n",
       "      <td>2016</td>\n",
       "      <td>156</td>\n",
       "      <td>1</td>\n",
       "      <td>1.1</td>\n",
       "      <td>1.1</td>\n",
       "      <td>1.1</td>\n",
       "    </tr>\n",
       "    <tr>\n",
       "      <th>2</th>\n",
       "      <td>2016</td>\n",
       "      <td>156</td>\n",
       "      <td>2</td>\n",
       "      <td>0.4</td>\n",
       "      <td>0.3</td>\n",
       "      <td>0.6</td>\n",
       "    </tr>\n",
       "    <tr>\n",
       "      <th>3</th>\n",
       "      <td>2016</td>\n",
       "      <td>156</td>\n",
       "      <td>3</td>\n",
       "      <td>0.3</td>\n",
       "      <td>0.1</td>\n",
       "      <td>-0.1</td>\n",
       "    </tr>\n",
       "    <tr>\n",
       "      <th>4</th>\n",
       "      <td>2016</td>\n",
       "      <td>156</td>\n",
       "      <td>4</td>\n",
       "      <td>-1.0</td>\n",
       "      <td>0.0</td>\n",
       "      <td>-0.6</td>\n",
       "    </tr>\n",
       "  </tbody>\n",
       "</table>\n",
       "</div>"
      ],
      "text/plain": [
       "   Year  Day  Hour  DSCOV Bz_gse, nT  WIND Bz_gse, nT  ACE Bz_gse, nT\n",
       "0  2016  156     0             999.9             -0.1             0.4\n",
       "1  2016  156     1               1.1              1.1             1.1\n",
       "2  2016  156     2               0.4              0.3             0.6\n",
       "3  2016  156     3               0.3              0.1            -0.1\n",
       "4  2016  156     4              -1.0              0.0            -0.6"
      ]
     },
     "execution_count": 2,
     "metadata": {},
     "output_type": "execute_result"
    }
   ],
   "source": [
    "columns = [\"Year\", \"Day\", \"Hour\", \"DSCOV Bz_gse, nT\", \"WIND Bz_gse, nT\" , \"ACE Bz_gse, nT\"]\n",
    "\n",
    "file_path = \"data/readings.lst\"\n",
    "df = pd.read_csv(file_path, sep = \"\\s+\", header=None, names= columns)\n",
    "df.head()"
   ]
  },
  {
   "cell_type": "code",
   "execution_count": 3,
   "metadata": {},
   "outputs": [
    {
     "data": {
      "text/html": [
       "<div>\n",
       "<style scoped>\n",
       "    .dataframe tbody tr th:only-of-type {\n",
       "        vertical-align: middle;\n",
       "    }\n",
       "\n",
       "    .dataframe tbody tr th {\n",
       "        vertical-align: top;\n",
       "    }\n",
       "\n",
       "    .dataframe thead th {\n",
       "        text-align: right;\n",
       "    }\n",
       "</style>\n",
       "<table border=\"1\" class=\"dataframe\">\n",
       "  <thead>\n",
       "    <tr style=\"text-align: right;\">\n",
       "      <th></th>\n",
       "      <th>Year</th>\n",
       "      <th>Day</th>\n",
       "      <th>Hour</th>\n",
       "      <th>DSCOV Bz_gse, nT</th>\n",
       "      <th>WIND Bz_gse, nT</th>\n",
       "      <th>ACE Bz_gse, nT</th>\n",
       "    </tr>\n",
       "    <tr>\n",
       "      <th>Date-Time</th>\n",
       "      <th></th>\n",
       "      <th></th>\n",
       "      <th></th>\n",
       "      <th></th>\n",
       "      <th></th>\n",
       "      <th></th>\n",
       "    </tr>\n",
       "  </thead>\n",
       "  <tbody>\n",
       "    <tr>\n",
       "      <th>2016-06-04 00:00:00</th>\n",
       "      <td>2016</td>\n",
       "      <td>156</td>\n",
       "      <td>0</td>\n",
       "      <td>999.9</td>\n",
       "      <td>-0.1</td>\n",
       "      <td>0.4</td>\n",
       "    </tr>\n",
       "    <tr>\n",
       "      <th>2016-06-04 01:00:00</th>\n",
       "      <td>2016</td>\n",
       "      <td>156</td>\n",
       "      <td>1</td>\n",
       "      <td>1.1</td>\n",
       "      <td>1.1</td>\n",
       "      <td>1.1</td>\n",
       "    </tr>\n",
       "    <tr>\n",
       "      <th>2016-06-04 02:00:00</th>\n",
       "      <td>2016</td>\n",
       "      <td>156</td>\n",
       "      <td>2</td>\n",
       "      <td>0.4</td>\n",
       "      <td>0.3</td>\n",
       "      <td>0.6</td>\n",
       "    </tr>\n",
       "    <tr>\n",
       "      <th>2016-06-04 03:00:00</th>\n",
       "      <td>2016</td>\n",
       "      <td>156</td>\n",
       "      <td>3</td>\n",
       "      <td>0.3</td>\n",
       "      <td>0.1</td>\n",
       "      <td>-0.1</td>\n",
       "    </tr>\n",
       "    <tr>\n",
       "      <th>2016-06-04 04:00:00</th>\n",
       "      <td>2016</td>\n",
       "      <td>156</td>\n",
       "      <td>4</td>\n",
       "      <td>-1.0</td>\n",
       "      <td>0.0</td>\n",
       "      <td>-0.6</td>\n",
       "    </tr>\n",
       "  </tbody>\n",
       "</table>\n",
       "</div>"
      ],
      "text/plain": [
       "                     Year  Day  Hour  DSCOV Bz_gse, nT  WIND Bz_gse, nT  \\\n",
       "Date-Time                                                                 \n",
       "2016-06-04 00:00:00  2016  156     0             999.9             -0.1   \n",
       "2016-06-04 01:00:00  2016  156     1               1.1              1.1   \n",
       "2016-06-04 02:00:00  2016  156     2               0.4              0.3   \n",
       "2016-06-04 03:00:00  2016  156     3               0.3              0.1   \n",
       "2016-06-04 04:00:00  2016  156     4              -1.0              0.0   \n",
       "\n",
       "                     ACE Bz_gse, nT  \n",
       "Date-Time                            \n",
       "2016-06-04 00:00:00             0.4  \n",
       "2016-06-04 01:00:00             1.1  \n",
       "2016-06-04 02:00:00             0.6  \n",
       "2016-06-04 03:00:00            -0.1  \n",
       "2016-06-04 04:00:00            -0.6  "
      ]
     },
     "execution_count": 3,
     "metadata": {},
     "output_type": "execute_result"
    }
   ],
   "source": [
    "# merge Year Day hour into one column\n",
    "df[\"Date-Time\"] = pd.to_datetime(df[[\"Year\", \"Day\", \"Hour\"]].astype(str).agg('-'.join, axis=1), format=\"%Y-%j-%H\")\n",
    "df.set_index('Date-Time', inplace=True)\n",
    "df.head()"
   ]
  },
  {
   "cell_type": "code",
   "execution_count": 4,
   "metadata": {},
   "outputs": [
    {
     "data": {
      "text/html": [
       "<div>\n",
       "<style scoped>\n",
       "    .dataframe tbody tr th:only-of-type {\n",
       "        vertical-align: middle;\n",
       "    }\n",
       "\n",
       "    .dataframe tbody tr th {\n",
       "        vertical-align: top;\n",
       "    }\n",
       "\n",
       "    .dataframe thead th {\n",
       "        text-align: right;\n",
       "    }\n",
       "</style>\n",
       "<table border=\"1\" class=\"dataframe\">\n",
       "  <thead>\n",
       "    <tr style=\"text-align: right;\">\n",
       "      <th></th>\n",
       "      <th>Year</th>\n",
       "      <th>Day</th>\n",
       "      <th>Hour</th>\n",
       "      <th>DSCOV Bz_gse, nT</th>\n",
       "      <th>WIND Bz_gse, nT</th>\n",
       "      <th>ACE Bz_gse, nT</th>\n",
       "    </tr>\n",
       "    <tr>\n",
       "      <th>Date-Time</th>\n",
       "      <th></th>\n",
       "      <th></th>\n",
       "      <th></th>\n",
       "      <th></th>\n",
       "      <th></th>\n",
       "      <th></th>\n",
       "    </tr>\n",
       "  </thead>\n",
       "  <tbody>\n",
       "    <tr>\n",
       "      <th>2016-06-04 00:00:00</th>\n",
       "      <td>2016</td>\n",
       "      <td>156</td>\n",
       "      <td>0</td>\n",
       "      <td>NaN</td>\n",
       "      <td>-0.1</td>\n",
       "      <td>0.4</td>\n",
       "    </tr>\n",
       "    <tr>\n",
       "      <th>2016-06-04 01:00:00</th>\n",
       "      <td>2016</td>\n",
       "      <td>156</td>\n",
       "      <td>1</td>\n",
       "      <td>1.1</td>\n",
       "      <td>1.1</td>\n",
       "      <td>1.1</td>\n",
       "    </tr>\n",
       "    <tr>\n",
       "      <th>2016-06-04 02:00:00</th>\n",
       "      <td>2016</td>\n",
       "      <td>156</td>\n",
       "      <td>2</td>\n",
       "      <td>0.4</td>\n",
       "      <td>0.3</td>\n",
       "      <td>0.6</td>\n",
       "    </tr>\n",
       "    <tr>\n",
       "      <th>2016-06-04 03:00:00</th>\n",
       "      <td>2016</td>\n",
       "      <td>156</td>\n",
       "      <td>3</td>\n",
       "      <td>0.3</td>\n",
       "      <td>0.1</td>\n",
       "      <td>-0.1</td>\n",
       "    </tr>\n",
       "    <tr>\n",
       "      <th>2016-06-04 04:00:00</th>\n",
       "      <td>2016</td>\n",
       "      <td>156</td>\n",
       "      <td>4</td>\n",
       "      <td>-1.0</td>\n",
       "      <td>0.0</td>\n",
       "      <td>-0.6</td>\n",
       "    </tr>\n",
       "  </tbody>\n",
       "</table>\n",
       "</div>"
      ],
      "text/plain": [
       "                     Year  Day  Hour  DSCOV Bz_gse, nT  WIND Bz_gse, nT  \\\n",
       "Date-Time                                                                 \n",
       "2016-06-04 00:00:00  2016  156     0               NaN             -0.1   \n",
       "2016-06-04 01:00:00  2016  156     1               1.1              1.1   \n",
       "2016-06-04 02:00:00  2016  156     2               0.4              0.3   \n",
       "2016-06-04 03:00:00  2016  156     3               0.3              0.1   \n",
       "2016-06-04 04:00:00  2016  156     4              -1.0              0.0   \n",
       "\n",
       "                     ACE Bz_gse, nT  \n",
       "Date-Time                            \n",
       "2016-06-04 00:00:00             0.4  \n",
       "2016-06-04 01:00:00             1.1  \n",
       "2016-06-04 02:00:00             0.6  \n",
       "2016-06-04 03:00:00            -0.1  \n",
       "2016-06-04 04:00:00            -0.6  "
      ]
     },
     "execution_count": 4,
     "metadata": {},
     "output_type": "execute_result"
    }
   ],
   "source": [
    "# Remove all 999.99, replace with NaN\n",
    "df.loc[df[\"DSCOV Bz_gse, nT\"] == 999.9, \"DSCOV Bz_gse, nT\"] = None\n",
    "df.loc[df[\"WIND Bz_gse, nT\"] == 999.9, \"WIND Bz_gse, nT\"] = None\n",
    "df.loc[df[\"ACE Bz_gse, nT\"] == 999.9, \"ACE Bz_gse, nT\"] = None\n",
    "\n",
    "df.head()"
   ]
  },
  {
   "cell_type": "code",
   "execution_count": 5,
   "metadata": {},
   "outputs": [
    {
     "data": {
      "image/png": "[encoded data removed]",
      "text/plain": [
       "<Figure size 1080x504 with 1 Axes>"
      ]
     },
     "metadata": {
      "needs_background": "light"
     },
     "output_type": "display_data"
    }
   ],
   "source": [
    "plt.figure(figsize=(15, 7))\n",
    "plt.plot(df[\"DSCOV Bz_gse, nT\"], label = \"DSCOV\")\n",
    "plt.plot(df[\"WIND Bz_gse, nT\"], label = \"WIND\")\n",
    "plt.plot(df[\"ACE Bz_gse, nT\"], label = \"ACE\")\n",
    "\n",
    "plt.axhline(y=-10)\n",
    "plt.legend()\n",
    "plt.show()"
   ]
  },
  {
   "cell_type": "markdown",
   "metadata": {},
   "source": [
    "### Putting ACE dataset into pandas "
   ]
  },
  {
   "cell_type": "code",
   "execution_count": 14,
   "metadata": {},
   "outputs": [
    {
     "data": {
      "text/html": [
       "<div>\n",
       "<style scoped>\n",
       "    .dataframe tbody tr th:only-of-type {\n",
       "        vertical-align: middle;\n",
       "    }\n",
       "\n",
       "    .dataframe tbody tr th {\n",
       "        vertical-align: top;\n",
       "    }\n",
       "\n",
       "    .dataframe thead th {\n",
       "        text-align: right;\n",
       "    }\n",
       "</style>\n",
       "<table border=\"1\" class=\"dataframe\">\n",
       "  <thead>\n",
       "    <tr style=\"text-align: right;\">\n",
       "      <th></th>\n",
       "      <th>Date</th>\n",
       "      <th>Year</th>\n",
       "      <th>Day</th>\n",
       "      <th>Hour</th>\n",
       "      <th>ACE Bx_gse, nT</th>\n",
       "      <th>ACE By_gse, nT</th>\n",
       "      <th>ACE Bz_gse, nT</th>\n",
       "    </tr>\n",
       "  </thead>\n",
       "  <tbody>\n",
       "    <tr>\n",
       "      <th>0</th>\n",
       "      <td>1998-02-05-00</td>\n",
       "      <td>1998</td>\n",
       "      <td>36</td>\n",
       "      <td>0</td>\n",
       "      <td>None</td>\n",
       "      <td>None</td>\n",
       "      <td>None</td>\n",
       "    </tr>\n",
       "    <tr>\n",
       "      <th>1</th>\n",
       "      <td>1998-02-05-01</td>\n",
       "      <td>1998</td>\n",
       "      <td>36</td>\n",
       "      <td>1</td>\n",
       "      <td>13.4</td>\n",
       "      <td>0.1</td>\n",
       "      <td>3.1</td>\n",
       "    </tr>\n",
       "    <tr>\n",
       "      <th>2</th>\n",
       "      <td>1998-02-05-02</td>\n",
       "      <td>1998</td>\n",
       "      <td>36</td>\n",
       "      <td>2</td>\n",
       "      <td>13.2</td>\n",
       "      <td>0.1</td>\n",
       "      <td>3.5</td>\n",
       "    </tr>\n",
       "    <tr>\n",
       "      <th>3</th>\n",
       "      <td>1998-02-05-03</td>\n",
       "      <td>1998</td>\n",
       "      <td>36</td>\n",
       "      <td>3</td>\n",
       "      <td>12.3</td>\n",
       "      <td>-1.6</td>\n",
       "      <td>4.7</td>\n",
       "    </tr>\n",
       "    <tr>\n",
       "      <th>4</th>\n",
       "      <td>1998-02-05-04</td>\n",
       "      <td>1998</td>\n",
       "      <td>36</td>\n",
       "      <td>4</td>\n",
       "      <td>11.8</td>\n",
       "      <td>-0.8</td>\n",
       "      <td>5.6</td>\n",
       "    </tr>\n",
       "  </tbody>\n",
       "</table>\n",
       "</div>"
      ],
      "text/plain": [
       "            Date  Year  Day  Hour ACE Bx_gse, nT ACE By_gse, nT ACE Bz_gse, nT\n",
       "0  1998-02-05-00  1998   36     0           None           None           None\n",
       "1  1998-02-05-01  1998   36     1           13.4            0.1            3.1\n",
       "2  1998-02-05-02  1998   36     2           13.2            0.1            3.5\n",
       "3  1998-02-05-03  1998   36     3           12.3           -1.6            4.7\n",
       "4  1998-02-05-04  1998   36     4           11.8           -0.8            5.6"
      ]
     },
     "execution_count": 14,
     "metadata": {},
     "output_type": "execute_result"
    }
   ],
   "source": [
    "columns_ACE = [\"Year\", \"Day\", \"Hour\", \"ACE Bx_gse, nT\", \"ACE By_gse, nT\" , \"ACE Bz_gse, nT\"]\n",
    "\n",
    "file_path = \"data/ACE/readings_ACE.lst\"\n",
    "df_ACE = pd.read_csv(file_path, sep = \"\\s+\", header=None, names= columns_ACE)\n",
    "\n",
    "#Combine Year, day, and hour\n",
    "def CombinedDate(year, day_number, hour):\n",
    "    date_format = '%Y-%m-%d-%H'\n",
    "    start_date = datetime(year, 1, 1, 0)                                # create a datetime object for January 1st midnight of the given year\n",
    "    result_date = start_date + timedelta(days=day_number-1, hours=hour) # add the number of days and hours to the start date\n",
    "    return result_date.strftime(date_format)                            # format the date string using the specified format and retur it\n",
    "\n",
    "date_ACE = []\n",
    "\n",
    "for index in df_ACE.index:\n",
    "    date_ACE.append(CombinedDate(int(df_ACE['Year'][index]), int(df_ACE['Day'][index]), int(df_ACE['Hour'][index])))\n",
    "\n",
    "df_ACE.insert(0, \"Date\", date_ACE, True)    #inserting dates\n",
    "\n",
    "# Remove all 999.99, replace with NaN\n",
    "df_ACE['ACE Bx_gse, nT'].replace(999.9, None, inplace=True)\n",
    "df_ACE['ACE By_gse, nT'].replace(999.9, None, inplace=True)\n",
    "df_ACE['ACE Bz_gse, nT'].replace(999.9, None, inplace=True)\n",
    "\n",
    "df_ACE.head()\n"
   ]
  },
  {
   "cell_type": "markdown",
   "metadata": {},
   "source": [
    "### PLotting ACE Dataset: Raw data, Fourier transform of all 3 vector components, spectral analysis of the z-component vector"
   ]
  },
  {
   "cell_type": "code",
   "execution_count": 15,
   "metadata": {},
   "outputs": [
    {
     "ename": "AttributeError",
     "evalue": "'DataFrame' object has no attribute 'High'",
     "output_type": "error",
     "traceback": [
      "\u001b[1;31m---------------------------------------------------------------------------\u001b[0m",
      "\u001b[1;31mAttributeError\u001b[0m                            Traceback (most recent call last)",
      "\u001b[1;32m<ipython-input-15-c81ca69f523c>\u001b[0m in \u001b[0;36m<module>\u001b[1;34m\u001b[0m\n\u001b[0;32m      3\u001b[0m \u001b[1;33m\u001b[0m\u001b[0m\n\u001b[0;32m      4\u001b[0m fig_ACE_raw.add_trace(\n\u001b[1;32m----> 5\u001b[1;33m     go.Scatter(x=list(df_ACE.Date), y=list(df.High)))\n\u001b[0m\u001b[0;32m      6\u001b[0m \u001b[1;33m\u001b[0m\u001b[0m\n\u001b[0;32m      7\u001b[0m \u001b[1;31m# Set title\u001b[0m\u001b[1;33m\u001b[0m\u001b[1;33m\u001b[0m\u001b[0m\n",
      "\u001b[1;32mc:\\Users\\rbren\\anaconda3\\envs\\py39\\lib\\site-packages\\pandas\\core\\generic.py\u001b[0m in \u001b[0;36m__getattr__\u001b[1;34m(self, name)\u001b[0m\n\u001b[0;32m   5900\u001b[0m         ):\n\u001b[0;32m   5901\u001b[0m             \u001b[1;32mreturn\u001b[0m \u001b[0mself\u001b[0m\u001b[1;33m[\u001b[0m\u001b[0mname\u001b[0m\u001b[1;33m]\u001b[0m\u001b[1;33m\u001b[0m\u001b[1;33m\u001b[0m\u001b[0m\n\u001b[1;32m-> 5902\u001b[1;33m         \u001b[1;32mreturn\u001b[0m \u001b[0mobject\u001b[0m\u001b[1;33m.\u001b[0m\u001b[0m__getattribute__\u001b[0m\u001b[1;33m(\u001b[0m\u001b[0mself\u001b[0m\u001b[1;33m,\u001b[0m \u001b[0mname\u001b[0m\u001b[1;33m)\u001b[0m\u001b[1;33m\u001b[0m\u001b[1;33m\u001b[0m\u001b[0m\n\u001b[0m\u001b[0;32m   5903\u001b[0m \u001b[1;33m\u001b[0m\u001b[0m\n\u001b[0;32m   5904\u001b[0m     \u001b[1;32mdef\u001b[0m \u001b[0m__setattr__\u001b[0m\u001b[1;33m(\u001b[0m\u001b[0mself\u001b[0m\u001b[1;33m,\u001b[0m \u001b[0mname\u001b[0m\u001b[1;33m:\u001b[0m \u001b[0mstr\u001b[0m\u001b[1;33m,\u001b[0m \u001b[0mvalue\u001b[0m\u001b[1;33m)\u001b[0m \u001b[1;33m->\u001b[0m \u001b[1;32mNone\u001b[0m\u001b[1;33m:\u001b[0m\u001b[1;33m\u001b[0m\u001b[1;33m\u001b[0m\u001b[0m\n",
      "\u001b[1;31mAttributeError\u001b[0m: 'DataFrame' object has no attribute 'High'"
     ]
    }
   ],
   "source": [
    "# Create figure\n",
    "fig_ACE_raw = go.Figure()\n",
    "\n",
    "fig_ACE_raw.add_trace(\n",
    "    go.Scatter(x=list(df_ACE.Date), y=list(df.High)))\n",
    "\n",
    "# Set title\n",
    "fig.update_layout(\n",
    "    title_text=\"Time series with range slider and selectors\"\n",
    ")\n",
    "\n",
    "# Add range slider\n",
    "fig.update_layout(\n",
    "    xaxis=dict(\n",
    "        rangeselector=dict(\n",
    "            buttons=list([\n",
    "                dict(count=1,\n",
    "                     label=\"1m\",\n",
    "                     step=\"month\",\n",
    "                     stepmode=\"backward\"),\n",
    "                dict(count=6,\n",
    "                     label=\"6m\",\n",
    "                     step=\"month\",\n",
    "                     stepmode=\"backward\"),\n",
    "                dict(count=1,\n",
    "                     label=\"YTD\",\n",
    "                     step=\"year\",\n",
    "                     stepmode=\"todate\"),\n",
    "                dict(count=1,\n",
    "                     label=\"1y\",\n",
    "                     step=\"year\",\n",
    "                     stepmode=\"backward\"),\n",
    "                dict(step=\"all\")\n",
    "            ])\n",
    "        ),\n",
    "        rangeslider=dict(\n",
    "            visible=True\n",
    "        ),\n",
    "        type=\"date\"\n",
    "    )\n",
    ")\n",
    "\n",
    "fig.show()"
   ]
  },
  {
   "cell_type": "markdown",
   "metadata": {},
   "source": [
    "# Visualization\n",
    "\n",
    "- Look at plotting average, median, range\n",
    "- How many are NaN, etc"
   ]
  },
  {
   "cell_type": "code",
   "execution_count": null,
   "metadata": {},
   "outputs": [],
   "source": []
  },
  {
   "cell_type": "markdown",
   "metadata": {},
   "source": [
    "# Thresholding\n",
    "Thresholding, and oogabooga, average time based on threshold"
   ]
  },
  {
   "cell_type": "code",
   "execution_count": 7,
   "metadata": {},
   "outputs": [],
   "source": [
    "df2 = df.copy()"
   ]
  },
  {
   "cell_type": "code",
   "execution_count": 8,
   "metadata": {},
   "outputs": [
    {
     "data": {
      "image/png": "[encoded data removed]",
      "text/plain": [
       "<Figure size 720x1080 with 3 Axes>"
      ]
     },
     "metadata": {
      "needs_background": "light"
     },
     "output_type": "display_data"
    }
   ],
   "source": [
    "thresholds = [-2, -6, -10] #in nT\n",
    "\n",
    "fig, axs = plt.subplots(len(thresholds), figsize=(10, 5*len(thresholds)))\n",
    "for i, threshold in enumerate(thresholds):\n",
    "    DSCOV_IMF_times = df2.index[ df2[\"DSCOV Bz_gse, nT\"] <= threshold]\n",
    "    DSCOV_IMF_time_diffs = DSCOV_IMF_times[1:] - DSCOV_IMF_times[:-1]\n",
    "    # print(\"Number of IMF below {threshold} nT threshold: \", len(DSCOV_IMF_time_diffs))\n",
    "\n",
    "    DSCOV_IMF_time_diffs_hrs = DSCOV_IMF_time_diffs.total_seconds() / 3600  \n",
    "    axs[i].hist(DSCOV_IMF_time_diffs_hrs, bins=30, edgecolor='k', alpha=0.7)\n",
    "    axs[i].set_title(f'Histogram of Time Between events (Threshold: {threshold} nT), n={len(DSCOV_IMF_time_diffs)}')\n",
    "    axs[i].set_xlabel('Time Difference (hours)')\n",
    "    axs[i].set_ylabel('Frequency')\n",
    "\n",
    "plt.tight_layout()\n",
    "plt.show()"
   ]
  },
  {
   "cell_type": "code",
   "execution_count": 9,
   "metadata": {},
   "outputs": [
    {
     "data": {
      "text/plain": [
       "[]"
      ]
     },
     "execution_count": 9,
     "metadata": {},
     "output_type": "execute_result"
    },
    {
     "data": {
      "image/png": "[encoded data removed]",
      "text/plain": [
       "<Figure size 432x288 with 1 Axes>"
      ]
     },
     "metadata": {
      "needs_background": "light"
     },
     "output_type": "display_data"
    }
   ],
   "source": [
    "DSCOV_IMF_times = df2.index[ df2[\"DSCOV Bz_gse, nT\"] < -6]\n",
    "plt.plot()"
   ]
  },
  {
   "cell_type": "markdown",
   "metadata": {},
   "source": [
    "# Research\n"
   ]
  },
  {
   "cell_type": "code",
   "execution_count": 10,
   "metadata": {},
   "outputs": [],
   "source": [
    "#threshold: -10nT --> https://www.spaceweatherlive.com/en/help/the-interplanetary-magnetic-field-imf.html\n",
    "# when DSCOVR B > 25nT: sm WIND measurements are significantly smaller. \n",
    "# ACE & Wind are universally consistent, we suggest using ACE or Wind measurement of the\n",
    "# magnetic field when the apparent field strength from DSCOVR is above 25nT\n",
    "\n",
    "# lists of dates of CME (coronal mass ejection) --> we can determine the threshold using that\n"
   ]
  },
  {
   "cell_type": "markdown",
   "metadata": {},
   "source": []
  },
  {
   "cell_type": "code",
   "execution_count": null,
   "metadata": {},
   "outputs": [],
   "source": []
  }
 ],
 "metadata": {
  "kernelspec": {
   "display_name": "py39",
   "language": "python",
   "name": "python3"
  },
  "language_info": {
   "codemirror_mode": {
    "name": "ipython",
    "version": 3
   },
   "file_extension": ".py",
   "mimetype": "text/x-python",
   "name": "python",
   "nbconvert_exporter": "python",
   "pygments_lexer": "ipython3",
   "version": "3.9.16"
  }
 },
 "nbformat": 4,
 "nbformat_minor": 2
}
